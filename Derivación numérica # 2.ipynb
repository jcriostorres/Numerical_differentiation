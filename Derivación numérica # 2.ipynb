{
 "cells": [
  {
   "attachments": {},
   "cell_type": "markdown",
   "id": "df830a1d",
   "metadata": {},
   "source": [
    "# Diferenciación numérica\n",
    "Se emplearon las expansiones en serie de Taylor para obtener las aproximaciones de las derivadas\n",
    "en diferencias divididas finitas. En el mismo capítulo se desarrollaron las aproximaciones\n",
    "en diferencias divididas hacia adelante, hacia atrás y centradas para la primer\n",
    "derivada y las derivadas de orden superior. Recuerde que, en el mejor de los casos, dichas\n",
    "estimaciones tenían errores que fueron O(h2); es decir, sus errores eran proporcionales al\n",
    "cuadrado del tamaño de paso. Este nivel de exactitud se debe al número de términos de la\n",
    "serie de Taylor que se utilizaron durante la deducción de esas fórmulas."
   ]
  },
  {
   "cell_type": "code",
   "execution_count": null,
   "id": "7eb0bf75",
   "metadata": {},
   "outputs": [],
   "source": [
    "import sympy as sp\n",
    "\n",
    "def forward_difference(f, x, h):\n",
    "    return (f(x + h) - f(x)) / h\n",
    "\n",
    "def central_difference(f, x, h):\n",
    "    return (f(x + h / 2) - f(x - h / 2)) / h\n",
    "\n",
    "#def backward derivative(f, x, h):\n",
    " #   return (f(x) - f(x - h)) / h\n",
    "\n",
    "\n",
    "\n",
    "def main():\n",
    "    x = sp.symbols('x')\n",
    "    \n",
    "    # Solicitar la función al usuario\n",
    "    expr_str = input(\"Ingrese la función f(x): \")\n",
    "    try:\n",
    "        expr = sp.sympify(expr_str)\n",
    "    except (sp.SympifyError, ValueError):\n",
    "        print(\"Entrada no válida. Asegúrese de ingresar una función válida.\")\n",
    "        return\n",
    "    \n",
    "    # Solicitar el punto en el que se calculará la derivada\n",
    "    x_value = float(input(\"Ingrese el valor de x donde se calculará la derivada: \"))\n",
    "    \n",
    "    # Solicitar el tamaño del paso (h)\n",
    "    h = float(input(\"Ingrese el tamaño del paso (h): \"))\n",
    "    \n",
    "    # Solicitar al usuario que elija el algoritmo\n",
    "    print(\"Seleccione el algoritmo para calcular la derivada:\")\n",
    "    print(\"1. Diferencia hacia adelante\")\n",
    "    print(\"2. Diferencia central\")\n",
    "    print(\"3. Diferencia hacia atras\")\n",
    "    choice = input(\"Elija 1, 2 o 3: \")\n",
    "    \n",
    "    if choice == '1':\n",
    "        derivative = forward_difference(expr, x_value, h)\n",
    "        method_name = \"Diferencia hacia adelante\"\n",
    "    elif choice == '2':\n",
    "        derivative = central_difference(expr, x_value, h)\n",
    "        method_name = \"Diferencia central\"\n",
    "    else:\n",
    "        print(\"Opción no válida. Por favor, elija 1 o 2.\")\n",
    "        return\n",
    "    \n",
    "    print(f\"La derivada de f(x) en {x_value} utilizando el método de {method_name} con h = {h} es: {derivative}\")\n",
    "    \n",
    "     # Crear un DataFrame para mostrar los resultados\n",
    "\n",
    "      #df = pd.DataFrame(resultados, columns=[\"Iteración\", \"a\", \"b\", \"c\", \"f(c)\", \"Error\"])  \n",
    "    \n",
    "\n",
    "if __name__ == \"__main__\":\n",
    "    main()\n",
    "      "
   ]
  }
 ],
 "metadata": {
  "kernelspec": {
   "display_name": "Python 3 (ipykernel)",
   "language": "python",
   "name": "python3"
  },
  "language_info": {
   "codemirror_mode": {
    "name": "ipython",
    "version": 3
   },
   "file_extension": ".py",
   "mimetype": "text/x-python",
   "name": "python",
   "nbconvert_exporter": "python",
   "pygments_lexer": "ipython3",
   "version": "3.9.12"
  }
 },
 "nbformat": 4,
 "nbformat_minor": 5
}
